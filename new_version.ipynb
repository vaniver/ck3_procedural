{
 "cells": [
  {
   "cell_type": "code",
   "execution_count": 1,
   "metadata": {},
   "outputs": [],
   "source": [
    "from cube import Cube\n",
    "from tile import Tile\n",
    "from ck2map import CK2Map\n",
    "import continent_gen\n",
    "import random\n",
    "from border_doodler import BorderDoodler\n",
    "import matplotlib.pyplot as plt\n",
    "import numpy as np\n",
    "from math import sqrt"
   ]
  },
  {
   "cell_type": "code",
   "execution_count": 18,
   "metadata": {},
   "outputs": [],
   "source": [
    "def make_capital_county(c_size=5, coastal=True, shuffle=True, rgb=(255,255,255)):\n",
    "    '''Makes a county where all provinces neighbor the central province.'''\n",
    "    a = Tile(rgb=rgb)\n",
    "    cube_list = list(Cube(0,0,0).neighbors())\n",
    "    if shuffle:\n",
    "        random.shuffle(cube_list)\n",
    "    if coastal and c_size<7:\n",
    "        a.water_list.append(cube_list[c_size-1])\n",
    "    cube_list = cube_list[:c_size-1]\n",
    "    for el in cube_list:\n",
    "        a.add_hex(el)\n",
    "    return a\n",
    "        \n",
    "\n",
    "def make_capital_duchy(origin=Cube(0,0,0), size_list=[5,4,4,4,4], coastal=True, shuffle=True):\n",
    "    '''Makes a duchy where all provinces neighbor the central province.\n",
    "    If coastal=True and d_size<7, one water hex bordering the capital will be included.\n",
    "    To make a fidget spinner, use d_size=4 and shuffle=False.'''\n",
    "    duchy = Tile(origin=origin, tile_list=[make_capital_county(c_size=size_list[0], coastal=coastal, shuffle=shuffle, rgb=random_c_cols.pop())],\n",
    "                 hex_list=[], rgb=random_d_cols.pop())\n",
    "    for el in size_list[1:]:\n",
    "        duchy.add_new_tile(el, rgb = random_c_cols.pop())\n",
    "    if coastal:\n",
    "        drhl = duchy.real_hex_list()\n",
    "        if continent_gen.check_water_access(drhl, duchy.real_water_list(), max([el.mag() for el in drhl])):\n",
    "            return duchy\n",
    "        else:\n",
    "            return make_capital_duchy(origin, size_list, coastal, shuffle)\n",
    "    else:\n",
    "        return duchy\n",
    "\n",
    "def make_kingdom(origin=Cube(0,0,0), size_list = [[5,4,4,4,4], [4,4,3,3], [4,4,3,3], [4,4,3]], coastal=True, shuffle=True,):\n",
    "    kingdom = Tile(origin=origin, tile_list=[make_capital_duchy(size_list=size_list[0], coastal=coastal, shuffle=shuffle)], hex_list=[], rgb=random_k_cols.pop())\n",
    "    size_list_index = 1\n",
    "    while size_list_index < len(size_list):\n",
    "        duchy_size_list = size_list[size_list_index]\n",
    "        krhl = kingdom.relative_hex_list()\n",
    "        krwl = kingdom.relative_water_list()\n",
    "        new_county = Tile.new_tile(duchy_size_list[0], rgb=random_c_cols.pop())\n",
    "        if new_county.move_into_place([kingdom.relative_neighbors()], krhl, krwl):\n",
    "            new_duchy = Tile(origin=Cube(0,0,0), tile_list = [new_county], hex_list=[], rgb=random_d_cols.pop())\n",
    "            for county_size_list in duchy_size_list[1:]:\n",
    "                new_duchy.add_new_tile(county_size_list, cant=krhl + krwl, rgb=random_c_cols.pop())\n",
    "            if continent_gen.check_water_access(krhl + new_duchy.relative_hex_list(), krwl, max([el.mag() for el in krhl])):\n",
    "                kingdom.add_tile(new_duchy)\n",
    "                size_list_index += 1\n",
    "    return kingdom"
   ]
  },
  {
   "cell_type": "code",
   "execution_count": 19,
   "metadata": {},
   "outputs": [],
   "source": [
    "cc = make_capital_county(5)\n",
    "cc.rgb=(192,192,0)\n",
    "cd = Tile(hex_list=[],tile_list=[cc], rgb=(255,0,0))"
   ]
  },
  {
   "cell_type": "code",
   "execution_count": 12,
   "metadata": {},
   "outputs": [],
   "source": [
    "random_k_cols = [(np.random.randint(128, 256), 64, 64) for _ in range(300)]\n",
    "random_d_cols = [(64,np.random.randint(128, 256), 64) for _ in range(300)]\n",
    "random_c_cols = [(np.random.randint(64, 256),64,np.random.randint(64, 256)) for _ in range(300)]"
   ]
  },
  {
   "cell_type": "code",
   "execution_count": 21,
   "metadata": {},
   "outputs": [
    {
     "output_type": "execute_result",
     "data": {
      "text/plain": "<PIL.Image.Image image mode=RGB size=300x300 at 0xAE19DF0>",
      "image/png": "[encoded data removed]"
     },
     "metadata": {},
     "execution_count": 21
    }
   ],
   "source": [
    "cd = make_capital_duchy()\n",
    "bd = BorderDoodler(cd, size=(300,300))\n",
    "bd.im"
   ]
  },
  {
   "cell_type": "code",
   "execution_count": 24,
   "metadata": {},
   "outputs": [
    {
     "output_type": "execute_result",
     "data": {
      "text/plain": "<PIL.Image.Image image mode=RGB size=750x750 at 0xAE08220>",
      "image/png": "[encoded data removed]"
     },
     "metadata": {},
     "execution_count": 24
    }
   ],
   "source": [
    "kingdom = make_kingdom()\n",
    "bdk = BorderDoodler(kingdom, size=(750,750),radius=15)\n",
    "bdk.im"
   ]
  },
  {
   "cell_type": "code",
   "execution_count": 9,
   "metadata": {},
   "outputs": [
    {
     "output_type": "execute_result",
     "data": {
      "text/plain": "288"
     },
     "metadata": {},
     "execution_count": 9
    }
   ],
   "source": [
    "len(random_cols)"
   ]
  },
  {
   "cell_type": "code",
   "execution_count": 32,
   "metadata": {},
   "outputs": [
    {
     "output_type": "execute_result",
     "data": {
      "text/plain": "<PIL.Image.Image image mode=RGB size=100x100 at 0xA8D82C8>",
      "image/png": "[encoded data removed]"
     },
     "metadata": {},
     "execution_count": 32
    }
   ],
   "source": [
    "duchy_size_list = [4,4,3,3]\n",
    "krhl = kingdom.relative_hex_list()\n",
    "new_county = Tile.new_tile(duchy_size_list[0], rgb=random_cols.pop())\n",
    "bdc = BorderDoodler(new_county)\n",
    "bdc.im"
   ]
  },
  {
   "cell_type": "code",
   "execution_count": 34,
   "metadata": {},
   "outputs": [
    {
     "output_type": "stream",
     "name": "stdout",
     "text": "0, 0, 0\nTrue\n-4, 4, 0\n"
    }
   ],
   "source": [
    "print(new_county.origin)\n",
    "print(new_county.move_into_place([kingdom.relative_neighbors()], kingdom.relative_hex_list(),kingdom.relative_water_list(),))\n",
    "print(new_county.origin)"
   ]
  },
  {
   "cell_type": "code",
   "execution_count": null,
   "metadata": {},
   "outputs": [],
   "source": [
    "        if new_county.move_into_place([kingdom.neighbors()], kingdom.relative_hex_list(),kingdom.relative_water_list(),):\n",
    "            new_duchy = Tile(origin=Cube(0,0,0), tile_list = [new_county], hex_list=[], rgb=random_cols.pop())\n",
    "            for county_size_list in duchy_size_list:\n",
    "                new_duchy.add_new_tile(county_size_list, cant=krhl)\n",
    "            kingdom.add_tile(new_duchy)\n",
    "        else:\n",
    "            print('Failed to add duchy!')"
   ]
  },
  {
   "cell_type": "code",
   "execution_count": 26,
   "metadata": {},
   "outputs": [],
   "source": [
    "coastal = True\n",
    "shuffle = True\n",
    "duchy = Tile(origin=origin, tile_list=[make_capital_county(c_size=size_list[0][0], coastal=coastal, shuffle=shuffle)],\n",
    "                 hex_list=[])"
   ]
  },
  {
   "cell_type": "code",
   "execution_count": 5,
   "metadata": {},
   "outputs": [],
   "source": [
    "from PIL import Image, ImageDraw\n",
    "size = (100,100)\n",
    "im = Image.new('RGB', size, (0,0,0))\n",
    "draw = ImageDraw.Draw(im)\n",
    "radius = 10\n",
    "\n",
    "def get_center(cube):\n",
    "    assert cube.x + cube.y + cube.z == 0, f'bad cube {cube}'\n",
    "    p = np.array(size) / 2\n",
    "    p += cube.x * np.array([sqrt(3), -1]) * radius\n",
    "    p += cube.y * np.array([0, -1]) * radius * 2\n",
    "    return p\n",
    "\n",
    "def get_hex_points(p, r=0):\n",
    "    points = []\n",
    "    for angle in range(0, 360, 60):\n",
    "        theta = angle * np.pi / 180\n",
    "        delta = np.array([np.cos(theta), np.sin(theta)]) * (radius+1-r)\n",
    "        points.append(tuple(p + delta))\n",
    "    return points"
   ]
  },
  {
   "cell_type": "code",
   "execution_count": 12,
   "metadata": {},
   "outputs": [],
   "source": [
    "for nind, nbor in enumerate(Cube().ordered_neighbors()):\n",
    "    hex_points = get_hex_points(get_center(nbor))\n",
    "    # draw.polygon(hex_points, outline=(40+nind*10,0,0), fill=(nind*40,0,0))\n",
    "    hex_points.append(hex_points[0])  # Wraparound.\n",
    "    for ind in range(6):\n",
    "        draw.line((hex_points[ind], hex_points[ind+1]),\n",
    "        fill=(80+ind*20,0,0))"
   ]
  },
  {
   "cell_type": "code",
   "execution_count": 13,
   "metadata": {},
   "outputs": [
    {
     "output_type": "execute_result",
     "data": {
      "text/plain": "<PIL.Image.Image image mode=RGB size=100x100 at 0x4281640>",
      "image/png": "[encoded data removed]"
     },
     "metadata": {},
     "execution_count": 13
    }
   ],
   "source": [
    "im"
   ]
  },
  {
   "cell_type": "code",
   "execution_count": 8,
   "metadata": {},
   "outputs": [
    {
     "output_type": "execute_result",
     "data": {
      "text/plain": "[(61.0, 50.0),\n (55.5, 59.52627944162882),\n (44.5, 59.52627944162883),\n (39.0, 50.0),\n (44.49999999999999, 40.47372055837118),\n (55.5, 40.47372055837118)]"
     },
     "metadata": {},
     "execution_count": 8
    }
   ],
   "source": [
    "get_hex_points(get_center(Cube()))"
   ]
  },
  {
   "cell_type": "code",
   "execution_count": null,
   "metadata": {},
   "outputs": [],
   "source": [
    "for cube in cc.real_hex_list():\n",
    "    center_pixel = "
   ]
  },
  {
   "cell_type": "code",
   "execution_count": 22,
   "metadata": {},
   "outputs": [
    {
     "ename": "AttributeError",
     "evalue": "'NoneType' object has no attribute 'real_hex_list'",
     "output_type": "error",
     "traceback": [
      "\u001b[1;31m---------------------------------------------------------------------------\u001b[0m",
      "\u001b[1;31mAttributeError\u001b[0m                            Traceback (most recent call last)",
      "\u001b[1;32m<ipython-input-22-2edd51944dfd>\u001b[0m in \u001b[0;36m<module>\u001b[1;34m\u001b[0m\n\u001b[0;32m      2\u001b[0m \u001b[0morigin\u001b[0m\u001b[1;33m=\u001b[0m\u001b[0mCube\u001b[0m\u001b[1;33m(\u001b[0m\u001b[1;36m0\u001b[0m\u001b[1;33m,\u001b[0m\u001b[1;36m0\u001b[0m\u001b[1;33m,\u001b[0m\u001b[1;36m0\u001b[0m\u001b[1;33m)\u001b[0m\u001b[1;33m\u001b[0m\u001b[1;33m\u001b[0m\u001b[0m\n\u001b[0;32m      3\u001b[0m \u001b[0msize_list\u001b[0m \u001b[1;33m=\u001b[0m \u001b[1;33m[\u001b[0m\u001b[1;33m[\u001b[0m\u001b[1;36m5\u001b[0m\u001b[1;33m,\u001b[0m\u001b[1;36m4\u001b[0m\u001b[1;33m,\u001b[0m\u001b[1;36m4\u001b[0m\u001b[1;33m,\u001b[0m\u001b[1;36m4\u001b[0m\u001b[1;33m,\u001b[0m\u001b[1;36m4\u001b[0m\u001b[1;33m]\u001b[0m\u001b[1;33m,\u001b[0m \u001b[1;33m[\u001b[0m\u001b[1;36m4\u001b[0m\u001b[1;33m,\u001b[0m\u001b[1;36m4\u001b[0m\u001b[1;33m,\u001b[0m\u001b[1;36m3\u001b[0m\u001b[1;33m,\u001b[0m\u001b[1;36m3\u001b[0m\u001b[1;33m]\u001b[0m\u001b[1;33m,\u001b[0m \u001b[1;33m[\u001b[0m\u001b[1;36m4\u001b[0m\u001b[1;33m,\u001b[0m\u001b[1;36m4\u001b[0m\u001b[1;33m,\u001b[0m\u001b[1;36m3\u001b[0m\u001b[1;33m,\u001b[0m\u001b[1;36m3\u001b[0m\u001b[1;33m]\u001b[0m\u001b[1;33m,\u001b[0m \u001b[1;33m[\u001b[0m\u001b[1;36m4\u001b[0m\u001b[1;33m,\u001b[0m\u001b[1;36m4\u001b[0m\u001b[1;33m,\u001b[0m\u001b[1;36m3\u001b[0m\u001b[1;33m]\u001b[0m\u001b[1;33m]\u001b[0m\u001b[1;33m\u001b[0m\u001b[1;33m\u001b[0m\u001b[0m\n\u001b[1;32m----> 4\u001b[1;33m \u001b[0mkingdom\u001b[0m \u001b[1;33m=\u001b[0m \u001b[0mTile\u001b[0m\u001b[1;33m(\u001b[0m\u001b[0morigin\u001b[0m\u001b[1;33m=\u001b[0m\u001b[0morigin\u001b[0m\u001b[1;33m,\u001b[0m \u001b[0mtile_list\u001b[0m\u001b[1;33m=\u001b[0m\u001b[1;33m[\u001b[0m\u001b[0mmake_capital_duchy\u001b[0m\u001b[1;33m(\u001b[0m\u001b[0msize_list\u001b[0m\u001b[1;33m=\u001b[0m\u001b[0msize_list\u001b[0m\u001b[1;33m[\u001b[0m\u001b[1;36m0\u001b[0m\u001b[1;33m]\u001b[0m\u001b[1;33m)\u001b[0m\u001b[1;33m]\u001b[0m\u001b[1;33m,\u001b[0m \u001b[0mhex_list\u001b[0m\u001b[1;33m=\u001b[0m\u001b[1;33m[\u001b[0m\u001b[1;33m]\u001b[0m\u001b[1;33m)\u001b[0m\u001b[1;33m\u001b[0m\u001b[1;33m\u001b[0m\u001b[0m\n\u001b[0m\u001b[0;32m      5\u001b[0m \u001b[0mkingdom\u001b[0m\u001b[1;33m.\u001b[0m\u001b[0mdoodle\u001b[0m\u001b[1;33m(\u001b[0m\u001b[1;33m)\u001b[0m\u001b[1;33m\u001b[0m\u001b[1;33m\u001b[0m\u001b[0m\n",
      "\u001b[1;32m<ipython-input-19-78f5feb7d54a>\u001b[0m in \u001b[0;36mmake_capital_duchy\u001b[1;34m(origin, size_list, coastal, shuffle)\u001b[0m\n\u001b[0;32m     19\u001b[0m                  hex_list=[])\n\u001b[0;32m     20\u001b[0m     \u001b[1;32mfor\u001b[0m \u001b[0mel\u001b[0m \u001b[1;32min\u001b[0m \u001b[0msize_list\u001b[0m\u001b[1;33m[\u001b[0m\u001b[1;36m1\u001b[0m\u001b[1;33m:\u001b[0m\u001b[1;33m]\u001b[0m\u001b[1;33m:\u001b[0m\u001b[1;33m\u001b[0m\u001b[1;33m\u001b[0m\u001b[0m\n\u001b[1;32m---> 21\u001b[1;33m         \u001b[0mduchy\u001b[0m\u001b[1;33m.\u001b[0m\u001b[0madd_new_tile\u001b[0m\u001b[1;33m(\u001b[0m\u001b[0mel\u001b[0m\u001b[1;33m)\u001b[0m\u001b[1;33m\u001b[0m\u001b[1;33m\u001b[0m\u001b[0m\n\u001b[0m\u001b[0;32m     22\u001b[0m     \u001b[1;32mreturn\u001b[0m \u001b[0mduchy\u001b[0m\u001b[1;33m\u001b[0m\u001b[1;33m\u001b[0m\u001b[0m\n\u001b[0;32m     23\u001b[0m \u001b[1;33m\u001b[0m\u001b[0m\n",
      "\u001b[1;32mC:\\ck3_procedural\\tile.py\u001b[0m in \u001b[0;36madd_new_tile\u001b[1;34m(self, size, weighted)\u001b[0m\n\u001b[0;32m    304\u001b[0m \u001b[1;33m\u001b[0m\u001b[0m\n\u001b[0;32m    305\u001b[0m     \u001b[1;32mdef\u001b[0m \u001b[0madd_new_tile\u001b[0m\u001b[1;33m(\u001b[0m\u001b[0mself\u001b[0m\u001b[1;33m,\u001b[0m \u001b[0msize\u001b[0m\u001b[1;33m,\u001b[0m \u001b[0mweighted\u001b[0m\u001b[1;33m=\u001b[0m\u001b[1;32mTrue\u001b[0m\u001b[1;33m)\u001b[0m\u001b[1;33m:\u001b[0m\u001b[1;33m\u001b[0m\u001b[1;33m\u001b[0m\u001b[0m\n\u001b[1;32m--> 306\u001b[1;33m         \u001b[0mself_relative\u001b[0m \u001b[1;33m=\u001b[0m \u001b[0mself\u001b[0m\u001b[1;33m.\u001b[0m\u001b[0mrelative_hex_list\u001b[0m\u001b[1;33m(\u001b[0m\u001b[1;33m)\u001b[0m \u001b[1;33m+\u001b[0m \u001b[0mself\u001b[0m\u001b[1;33m.\u001b[0m\u001b[0mrelative_water_list\u001b[0m\u001b[1;33m(\u001b[0m\u001b[1;33m)\u001b[0m\u001b[1;33m\u001b[0m\u001b[1;33m\u001b[0m\u001b[0m\n\u001b[0m\u001b[0;32m    307\u001b[0m         \u001b[0mself_neighbors\u001b[0m \u001b[1;33m=\u001b[0m \u001b[0mself\u001b[0m\u001b[1;33m.\u001b[0m\u001b[0mrelative_neighbors\u001b[0m\u001b[1;33m(\u001b[0m\u001b[0mweighted\u001b[0m\u001b[1;33m)\u001b[0m\u001b[1;33m\u001b[0m\u001b[1;33m\u001b[0m\u001b[0m\n\u001b[0;32m    308\u001b[0m         \u001b[1;32mfor\u001b[0m \u001b[0m_\u001b[0m \u001b[1;32min\u001b[0m \u001b[0mrange\u001b[0m\u001b[1;33m(\u001b[0m\u001b[1;36m100\u001b[0m\u001b[1;33m)\u001b[0m\u001b[1;33m:\u001b[0m \u001b[1;31m#Give up if you can't do it in 100 tries.\u001b[0m\u001b[1;33m\u001b[0m\u001b[1;33m\u001b[0m\u001b[0m\n",
      "\u001b[1;32mC:\\ck3_procedural\\tile.py\u001b[0m in \u001b[0;36mrelative_hex_list\u001b[1;34m(self)\u001b[0m\n\u001b[0;32m     87\u001b[0m         \u001b[0mh_list\u001b[0m \u001b[1;33m+=\u001b[0m \u001b[0mself\u001b[0m\u001b[1;33m.\u001b[0m\u001b[0mhex_list\u001b[0m\u001b[1;33m\u001b[0m\u001b[1;33m\u001b[0m\u001b[0m\n\u001b[0;32m     88\u001b[0m         \u001b[1;32mfor\u001b[0m \u001b[0mtile\u001b[0m \u001b[1;32min\u001b[0m \u001b[0mself\u001b[0m\u001b[1;33m.\u001b[0m\u001b[0mtile_list\u001b[0m\u001b[1;33m:\u001b[0m\u001b[1;33m\u001b[0m\u001b[1;33m\u001b[0m\u001b[0m\n\u001b[1;32m---> 89\u001b[1;33m             \u001b[1;32mfor\u001b[0m \u001b[0ml_el\u001b[0m \u001b[1;32min\u001b[0m \u001b[0mtile\u001b[0m\u001b[1;33m.\u001b[0m\u001b[0mreal_hex_list\u001b[0m\u001b[1;33m(\u001b[0m\u001b[1;33m)\u001b[0m\u001b[1;33m:\u001b[0m\u001b[1;33m\u001b[0m\u001b[1;33m\u001b[0m\u001b[0m\n\u001b[0m\u001b[0;32m     90\u001b[0m                 \u001b[1;32mif\u001b[0m \u001b[0ml_el\u001b[0m \u001b[1;32mnot\u001b[0m \u001b[1;32min\u001b[0m \u001b[0mh_list\u001b[0m\u001b[1;33m:\u001b[0m\u001b[1;33m\u001b[0m\u001b[1;33m\u001b[0m\u001b[0m\n\u001b[0;32m     91\u001b[0m                     \u001b[0mh_list\u001b[0m\u001b[1;33m.\u001b[0m\u001b[0mappend\u001b[0m\u001b[1;33m(\u001b[0m\u001b[0ml_el\u001b[0m\u001b[1;33m)\u001b[0m\u001b[1;33m\u001b[0m\u001b[1;33m\u001b[0m\u001b[0m\n",
      "\u001b[1;31mAttributeError\u001b[0m: 'NoneType' object has no attribute 'real_hex_list'"
     ]
    }
   ],
   "source": [
    "\n",
    "origin=Cube(0,0,0)\n",
    "size_list = [[5,4,4,4,4], [4,4,3,3], [4,4,3,3], [4,4,3]]\n",
    "kingdom = Tile(origin=origin, tile_list=[make_capital_duchy(size_list=size_list[0])], hex_list=[])\n",
    "kingdom.doodle()"
   ]
  },
  {
   "cell_type": "code",
   "execution_count": 1,
   "metadata": {},
   "outputs": [],
   "source": [
    "from math import sqrt\n",
    "from PIL import Image, ImageDraw"
   ]
  },
  {
   "cell_type": "code",
   "execution_count": null,
   "metadata": {},
   "outputs": [],
   "source": [
    "class TitleDoodler:\n",
    "    def __init__(self, size=(500,500), radius=15):\n",
    "        self.im = Image.new('RGB', size, (0, 0, 0))\n",
    "        self.draw = ImageDraw.Draw(self.im)\n",
    "        self.size = size\n",
    "        self.radius = radius\n",
    "\n",
    "    def get_center(self, cube):\n",
    "        assert cube.x + cube.y + cube.z == 0, f'bad cube {cube}'\n",
    "        p = np.array(self.size) / 2\n",
    "        p += cube.x * np.array([sqrt(3), -1]) * self.radius\n",
    "        p += cube.y * np.array([0, -1]) * self.radius * 2\n",
    "        return p\n",
    "\n",
    "    def get_hex_points(self, p, radius=None):\n",
    "        radius = radius or self.radius\n",
    "        points = []\n",
    "        for angle in range(0, 360, 60):\n",
    "            theta = angle * np.pi / 180\n",
    "            delta = np.array([np.cos(theta), np.sin(theta)]) * radius\n",
    "            points.append(tuple(p + delta))\n",
    "        return points\n",
    "\n",
    "    def draw_barony(self, cube, color):\n",
    "        '''Return the '''\n",
    "        self.draw.polygon(self.get_hex_points(self.get_center(cube)), fill=color)\n",
    "        "
   ]
  }
 ],
 "metadata": {
  "kernelspec": {
   "display_name": "Python 3.8.5 32-bit",
   "language": "python",
   "name": "python38532biteab19420ed7c4efc88a82e72aebdf285"
  },
  "language_info": {
   "codemirror_mode": {
    "name": "ipython",
    "version": 3
   },
   "file_extension": ".py",
   "mimetype": "text/x-python",
   "name": "python",
   "nbconvert_exporter": "python",
   "pygments_lexer": "ipython3",
   "version": "3.8.5-final"
  }
 },
 "nbformat": 4,
 "nbformat_minor": 4
}